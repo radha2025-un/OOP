{
  "nbformat": 4,
  "nbformat_minor": 0,
  "metadata": {
    "colab": {
      "provenance": []
    },
    "kernelspec": {
      "name": "python3",
      "display_name": "Python 3"
    },
    "language_info": {
      "name": "python"
    }
  },
  "cells": [
    {
      "cell_type": "code",
      "execution_count": 2,
      "metadata": {
        "colab": {
          "base_uri": "https://localhost:8080/"
        },
        "id": "GHDDxb1WKgqY",
        "outputId": "c0d8e89c-218d-4d8b-d261-5f775ac0144c"
      },
      "outputs": [
        {
          "output_type": "stream",
          "name": "stdout",
          "text": [
            "3\n",
            "10\n"
          ]
        }
      ],
      "source": [
        "class MyClass:\n",
        "    class_variable = 0\n",
        "\n",
        "    def __init__(self, value):\n",
        "        self.instance_variable = value\n",
        "\n",
        "    @classmethod\n",
        "    def class_method(cls, x):\n",
        "        cls.class_variable += x\n",
        "        return cls.class_variable\n",
        "\n",
        "# Creating instances of the class\n",
        "obj1 = MyClass(5)\n",
        "obj2 = MyClass(10)\n",
        "\n",
        "# Calling the class method\n",
        "print(MyClass.class_method(3))  # Output: 3\n",
        "print(MyClass.class_method(7))  # Output: 10\n",
        "\n",
        ""
      ]
    },
    {
      "cell_type": "code",
      "source": [
        "# First product method.\n",
        "# Takes two argument and print their\n",
        "# product\n",
        "\n",
        "\n",
        "def product(a, b):\n",
        "    p = a * b\n",
        "    print(p)\n",
        "\n",
        "# Second product method\n",
        "# Takes three argument and print their\n",
        "# product\n",
        "\n",
        "\n",
        "def product(a, b, c):\n",
        "    p = a * b*c\n",
        "    print(p)\n",
        "\n",
        "# Uncommenting the below line shows an error\n",
        "# product(4, 5)\n",
        "\n",
        "\n",
        "# This line will call the second product method\n",
        "product(4, 5, 5)"
      ],
      "metadata": {
        "colab": {
          "base_uri": "https://localhost:8080/"
        },
        "id": "z6PRTHW6KnXC",
        "outputId": "6be77f5f-e25e-4897-80e7-a334ecc0c790"
      },
      "execution_count": 3,
      "outputs": [
        {
          "output_type": "stream",
          "name": "stdout",
          "text": [
            "100\n"
          ]
        }
      ]
    },
    {
      "cell_type": "code",
      "source": [
        "# program to illustrate public access modifier in a class\n",
        "\n",
        "\n",
        "class Geek:\n",
        "\n",
        "    # constructor\n",
        "    def __init__(self, name, age):\n",
        "\n",
        "        # public data members\n",
        "        self.geekName = name\n",
        "        self.geekAge = age\n",
        "\n",
        "    # public member function\n",
        "    def displayAge(self):\n",
        "\n",
        "        # accessing public data member\n",
        "        print(\"Age: \", self.geekAge)\n",
        "\n",
        "\n",
        "# creating object of the class\n",
        "obj = Geek(\"R2J\", 20)\n",
        "\n",
        "# finding all the fields and methods which are present inside obj\n",
        "print(\"List of fields and methods inside obj:\", dir(obj))\n",
        "\n",
        "# accessing public data member\n",
        "print(\"Name:\", obj.geekName)\n",
        "\n",
        "# calling public member function of the class\n",
        "obj.displayAge()"
      ],
      "metadata": {
        "colab": {
          "base_uri": "https://localhost:8080/"
        },
        "id": "5vyjxwriMALA",
        "outputId": "ca2ba4cd-877a-43b9-ade3-375f2c166403"
      },
      "execution_count": 4,
      "outputs": [
        {
          "output_type": "stream",
          "name": "stdout",
          "text": [
            "List of fields and methods inside obj: ['__class__', '__delattr__', '__dict__', '__dir__', '__doc__', '__eq__', '__format__', '__ge__', '__getattribute__', '__gt__', '__hash__', '__init__', '__init_subclass__', '__le__', '__lt__', '__module__', '__ne__', '__new__', '__reduce__', '__reduce_ex__', '__repr__', '__setattr__', '__sizeof__', '__str__', '__subclasshook__', '__weakref__', 'displayAge', 'geekAge', 'geekName']\n",
            "Name: R2J\n",
            "Age:  20\n"
          ]
        }
      ]
    },
    {
      "cell_type": "code",
      "source": [
        "# Python program to demonstrate\n",
        "# single inheritance\n",
        "\n",
        "# Base class\n",
        "class Parent:\n",
        "    def func1(self):\n",
        "        print(\"This function is in parent class.\")\n",
        "\n",
        "# Derived class\n",
        "\n",
        "\n",
        "class Child(Parent):\n",
        "    def func2(self):\n",
        "        print(\"This function is in child class.\")\n",
        "\n",
        "\n",
        "# Driver's code\n",
        "object = Child()\n",
        "object.func1()\n",
        "object.func2()\n",
        "\n",
        "\n",
        "# Python program to demonstrate\n",
        "# multiple inheritance\n",
        "\n",
        "# Base class1\n",
        "class Mother:\n",
        "    mothername = \"\"\n",
        "\n",
        "    def mother(self):\n",
        "        print(self.mothername)\n",
        "\n",
        "# Base class2\n",
        "\n",
        "\n",
        "class Father:\n",
        "    fathername = \"\"\n",
        "\n",
        "    def father(self):\n",
        "        print(self.fathername)\n",
        "\n",
        "# Derived class\n",
        "\n",
        "\n",
        "class Son(Mother, Father):\n",
        "    def parents(self):\n",
        "        print(\"Father :\", self.fathername)\n",
        "        print(\"Mother :\", self.mothername)\n",
        "\n",
        "\n",
        "# Driver's code\n",
        "s1 = Son()\n",
        "s1.fathername = \"RAM\"\n",
        "s1.mothername = \"SITA\"\n",
        "s1.parents()\n",
        "\n",
        "\n",
        "\n",
        "# Python program to demonstrate\n",
        "# multilevel inheritance\n",
        "\n",
        "# Base class\n",
        "\n",
        "\n",
        "class Grandfather:\n",
        "\n",
        "    def __init__(self, grandfathername):\n",
        "        self.grandfathername = grandfathername\n",
        "\n",
        "# Intermediate class\n",
        "\n",
        "\n",
        "class Father(Grandfather):\n",
        "    def __init__(self, fathername, grandfathername):\n",
        "        self.fathername = fathername\n",
        "\n",
        "        # invoking constructor of Grandfather class\n",
        "        Grandfather.__init__(self, grandfathername)\n",
        "\n",
        "# Derived class\n",
        "\n",
        "\n",
        "class Son(Father):\n",
        "    def __init__(self, sonname, fathername, grandfathername):\n",
        "        self.sonname = sonname\n",
        "\n",
        "        # invoking constructor of Father class\n",
        "        Father.__init__(self, fathername, grandfathername)\n",
        "\n",
        "    def print_name(self):\n",
        "        print('Grandfather name :', self.grandfathername)\n",
        "        print(\"Father name :\", self.fathername)\n",
        "        print(\"Son name :\", self.sonname)\n",
        "\n",
        "\n",
        "#  Driver code\n",
        "s1 = Son('Prince', 'Rampal', 'Lal mani')\n",
        "print(s1.grandfathername)\n",
        "s1.print_name()\n",
        "\n",
        "\n",
        "\n",
        "# Python program to demonstrate\n",
        "# Hierarchical inheritance\n",
        "\n",
        "\n",
        "# Base class\n",
        "class Parent:\n",
        "    def func1(self):\n",
        "        print(\"This function is in parent class.\")\n",
        "\n",
        "# Derived class1\n",
        "\n",
        "\n",
        "class Child1(Parent):\n",
        "    def func2(self):\n",
        "        print(\"This function is in child 1.\")\n",
        "\n",
        "# Derivied class2\n",
        "\n",
        "\n",
        "class Child2(Parent):\n",
        "    def func3(self):\n",
        "        print(\"This function is in child 2.\")\n",
        "\n",
        "\n",
        "# Driver's code\n",
        "object1 = Child1()\n",
        "object2 = Child2()\n",
        "object1.func1()\n",
        "object1.func2()\n",
        "object2.func1()\n",
        "object2.func3()\n",
        "\n",
        "\n",
        "# Python program to demonstrate\n",
        "# hybrid inheritance\n",
        "\n",
        "\n",
        "class School:\n",
        "    def func1(self):\n",
        "        print(\"This function is in school.\")\n",
        "\n",
        "\n",
        "class Student1(School):\n",
        "    def func2(self):\n",
        "        print(\"This function is in student 1. \")\n",
        "\n",
        "\n",
        "class Student2(School):\n",
        "    def func3(self):\n",
        "        print(\"This function is in student 2.\")\n",
        "\n",
        "\n",
        "class Student3(Student1, School):\n",
        "    def func4(self):\n",
        "        print(\"This function is in student 3.\")\n",
        "\n",
        "\n",
        "# Driver's code\n",
        "object = Student3()\n",
        "object.func1()\n",
        "object.func2()"
      ],
      "metadata": {
        "colab": {
          "base_uri": "https://localhost:8080/"
        },
        "id": "Kwv8cHiDMl00",
        "outputId": "a849189c-86e1-43a4-cd21-0b199d3d5e9a"
      },
      "execution_count": 10,
      "outputs": [
        {
          "output_type": "stream",
          "name": "stdout",
          "text": [
            "This function is in parent class.\n",
            "This function is in child class.\n",
            "Father : RAM\n",
            "Mother : SITA\n",
            "Lal mani\n",
            "Grandfather name : Lal mani\n",
            "Father name : Rampal\n",
            "Son name : Prince\n",
            "This function is in parent class.\n",
            "This function is in child 1.\n",
            "This function is in parent class.\n",
            "This function is in child 2.\n",
            "This function is in school.\n",
            "This function is in student 1. \n"
          ]
        }
      ]
    },
    {
      "cell_type": "code",
      "source": [
        "from abc import ABC, abstractmethod\n",
        "\n",
        "# Define an abstract class\n",
        "class Animal(ABC):\n",
        "\n",
        "    @abstractmethod\n",
        "    def sound(self):\n",
        "        pass  # This is an abstract method, no implementation here.\n",
        "\n",
        "# Concrete subclass of Animal\n",
        "class Dog(Animal):\n",
        "\n",
        "    def sound(self):\n",
        "        return \"Bark\"  # Providing the implementation of the abstract method\n",
        "\n",
        "# Create an instance of Dog\n",
        "dog = Dog()\n",
        "print(dog.sound())  # Output: Bark"
      ],
      "metadata": {
        "colab": {
          "base_uri": "https://localhost:8080/"
        },
        "id": "PZMO9SFMNceE",
        "outputId": "149f7464-55cf-4c6b-cab3-219cfd161a20"
      },
      "execution_count": 11,
      "outputs": [
        {
          "output_type": "stream",
          "name": "stdout",
          "text": [
            "Bark\n"
          ]
        }
      ]
    },
    {
      "cell_type": "code",
      "source": [
        "# Python program to demonstrate in-built poly-\n",
        "# morphic functions\n",
        "\n",
        "# len() being used for a string\n",
        "print(len(\"geeks\"))\n",
        "\n",
        "# len() being used for a list\n",
        "print(len([10, 20, 30]))"
      ],
      "metadata": {
        "colab": {
          "base_uri": "https://localhost:8080/"
        },
        "id": "Wk7DSxVUSXtd",
        "outputId": "074fbe1c-43b7-4408-d446-7f81ca5c0fbe"
      },
      "execution_count": 12,
      "outputs": [
        {
          "output_type": "stream",
          "name": "stdout",
          "text": [
            "5\n",
            "3\n"
          ]
        }
      ]
    },
    {
      "cell_type": "code",
      "source": [
        "# Python program to create Bankaccount class\n",
        "# with both a deposit() and a withdraw() function\n",
        "class Bank_Account:\n",
        "    def __init__(self):\n",
        "        self.balance=0\n",
        "        print(\"Hello!!! Welcome to the Deposit & Withdrawal Machine\")\n",
        "\n",
        "    def deposit(self):\n",
        "        amount=float(input(\"Enter amount to be Deposited: \"))\n",
        "        self.balance += amount\n",
        "        print(\"\\n Amount Deposited:\",amount)\n",
        "\n",
        "    def withdraw(self):\n",
        "        amount = float(input(\"Enter amount to be Withdrawn: \"))\n",
        "        if self.balance>=amount:\n",
        "            self.balance-=amount\n",
        "            print(\"\\n You Withdrew:\", amount)\n",
        "        else:\n",
        "            print(\"\\n Insufficient balance  \")\n",
        "\n",
        "    def display(self):\n",
        "        print(\"\\n Net Available Balance=\",self.balance)\n",
        "\n",
        "# Driver code\n",
        "\n",
        "# creating an object of class\n",
        "s = Bank_Account()\n",
        "\n",
        "# Calling functions with that class object\n",
        "s.deposit()\n",
        "s.withdraw()\n",
        "s.display()"
      ],
      "metadata": {
        "colab": {
          "base_uri": "https://localhost:8080/"
        },
        "id": "SpW0ScZuSzfm",
        "outputId": "e1300626-ff7a-48fc-d146-032e77158af3"
      },
      "execution_count": 13,
      "outputs": [
        {
          "output_type": "stream",
          "name": "stdout",
          "text": [
            "Hello!!! Welcome to the Deposit & Withdrawal Machine\n",
            "\n",
            " Amount Deposited: 15000.0\n",
            "Enter amount to be Withdrawn: 12000\n",
            "\n",
            " You Withdrew: 12000.0\n",
            "\n",
            " Net Available Balance= 3000.0\n"
          ]
        }
      ]
    },
    {
      "cell_type": "code",
      "source": [
        "def my_decorator(func):\n",
        "    def wrapper_function(*args, **kwargs):\n",
        "        print(\"*\"*10)\n",
        "        func(*args,  **kwargs)\n",
        "        print(\"*\"*10)\n",
        "    return wrapper_function\n",
        "\n",
        "\n",
        "def say_hello():\n",
        "    print(\"Hello Geeks!\")\n",
        "\n",
        "@my_decorator\n",
        "def say_bye():\n",
        "    print(\"Bye Geeks!\")\n",
        "\n",
        "\n",
        "say_hello = my_decorator(say_hello)\n",
        "say_hello()\n",
        "say_bye()"
      ],
      "metadata": {
        "colab": {
          "base_uri": "https://localhost:8080/"
        },
        "id": "pyk0uhc7TSvg",
        "outputId": "a59dea75-0dd2-46ba-8808-fd41b7f0b17b"
      },
      "execution_count": 14,
      "outputs": [
        {
          "output_type": "stream",
          "name": "stdout",
          "text": [
            "**********\n",
            "Hello Geeks!\n",
            "**********\n",
            "**********\n",
            "Bye Geeks!\n",
            "**********\n"
          ]
        }
      ]
    },
    {
      "cell_type": "code",
      "source": [
        "class A:\n",
        "    def display(self):\n",
        "        print(\"Display method from class A\")\n",
        "\n",
        "class B(A):\n",
        "    def display(self):\n",
        "        print(\"Display method from class B\")\n",
        "\n",
        "class C(A):\n",
        "    def display(self):\n",
        "        print(\"Display method from class C\")\n",
        "\n",
        "class D(B, C):\n",
        "    pass\n",
        "\n",
        "d = D()\n",
        "d.display()"
      ],
      "metadata": {
        "id": "1TcjDgeRU2LH"
      },
      "execution_count": null,
      "outputs": []
    },
    {
      "cell_type": "code",
      "source": [
        "# Python3 implementation to check\n",
        "# if the year is a leap year\n",
        "# using macros\n",
        "\n",
        "# Macro to check if a year\n",
        "# is a leap year\n",
        "def ISLP(y):\n",
        "  if((y % 400 == 0) or\n",
        "     (y % 100 != 0) and\n",
        "     (y % 4 == 0)):\n",
        "    return 1;\n",
        "  else:\n",
        "    return 0;\n",
        "\n",
        "# Driver code\n",
        "if __name__=='__main__':\n",
        "\n",
        "  year = 2020;\n",
        "  print(ISLP(year));\n",
        "\n",
        "  # This code is contributed by  Pratham76."
      ],
      "metadata": {
        "colab": {
          "base_uri": "https://localhost:8080/"
        },
        "id": "7Z4V2lLQVUB5",
        "outputId": "05b0dade-0218-4bdf-b288-8e0fce814428"
      },
      "execution_count": 17,
      "outputs": [
        {
          "output_type": "stream",
          "name": "stdout",
          "text": [
            "1\n"
          ]
        }
      ]
    },
    {
      "cell_type": "code",
      "source": [],
      "metadata": {
        "id": "Z9MmSS6-WHwL"
      },
      "execution_count": null,
      "outputs": []
    }
  ]
}